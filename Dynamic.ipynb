{
 "cells": [
  {
   "cell_type": "code",
   "execution_count": 1,
   "metadata": {},
   "outputs": [],
   "source": [
    "%matplotlib inline     \n",
    "# ^Sans animations\n",
    "# %matplotlib notebook \n",
    "# ^Avec animations\n",
    "import numpy as np\n",
    "from random import randrange\n",
    "import matplotlib.pyplot as plt\n",
    "from matplotlib import animation\n",
    "import pandas as pd\n",
    "import matplotlib\n",
    "import matplotlib.animation as animation"
   ]
  },
  {
   "cell_type": "code",
   "execution_count": 2,
   "metadata": {},
   "outputs": [
    {
     "data": {
      "text/plain": [
       "'A'"
      ]
     },
     "execution_count": 2,
     "metadata": {},
     "output_type": "execute_result"
    }
   ],
   "source": [
    "p = {\"A\" : 0.5,\n",
    "    \"B\" : 0.5}\n",
    "\n",
    "def (p):\n",
    "    \"\"\" Hypothèse : 0.5+ : B\"\"\"\n",
    "    r = (randrange(0,100)*1.0)/100\n",
    "    for d in p:\n",
    "        if r < p[d]:\n",
    "            return \"A\"\n",
    "        else: \n",
    "            return \"B\"\n",
    "    \n",
    "flux(p)"
   ]
  },
  {
   "cell_type": "code",
   "execution_count": 3,
   "metadata": {},
   "outputs": [
    {
     "data": {
      "text/plain": [
       "'MauvaisePoubelle'"
      ]
     },
     "execution_count": 3,
     "metadata": {},
     "output_type": "execute_result"
    }
   ],
   "source": [
    "q = {\"BonnePoubelle\" : 0.9,\n",
    "    \"MauvaisePoubelle\" : 0.1,\n",
    "    \"\"}\n",
    "\n",
    "def poubelle_choisie(p,q):\n",
    "    f = flux(p)\n",
    "    n = (randrange(0,100)*1.0)/100\n",
    "    if f == \"A\":\n",
    "        for d in q:\n",
    "            if n >= q[d]:\n",
    "                return \"BonnePoubelle\"\n",
    "            else: \n",
    "                return \"MauvaisePoubelle\"\n",
    "    else:\n",
    "        for d in q:\n",
    "            if n >= q[d]:\n",
    "                return \"BonnePoubelle\"\n",
    "            else: \n",
    "                return \"MauvaisePoubelle\"\n",
    "            \n",
    "poubelle_choisie(p,q)"
   ]
  },
  {
   "cell_type": "code",
   "execution_count": 4,
   "metadata": {},
   "outputs": [
    {
     "data": {
      "text/plain": [
       "(6, 95)"
      ]
     },
     "execution_count": 4,
     "metadata": {},
     "output_type": "execute_result"
    }
   ],
   "source": [
    "def nb_dans_poubelle(p,q):\n",
    "    p1 = 0\n",
    "    p2 = 0\n",
    "    n = 100\n",
    "    for d in range(n+1):\n",
    "        if poubelle_choisie(p,q)== \"BonnePoubelle\" :\n",
    "            p1 = p1 + 1\n",
    "        else :\n",
    "            p2 = p2 + 1\n",
    "    return (p1, p2)\n",
    "\n",
    "nb_dans_poubelle(p,q)"
   ]
  },
  {
   "cell_type": "code",
   "execution_count": 5,
   "metadata": {},
   "outputs": [
    {
     "data": {
      "text/plain": [
       "[(8, 93),\n",
       " (13, 88),\n",
       " (11, 90),\n",
       " (19, 82),\n",
       " (10, 91),\n",
       " (11, 90),\n",
       " (11, 90),\n",
       " (13, 88),\n",
       " (11, 90),\n",
       " (7, 94)]"
      ]
     },
     "execution_count": 5,
     "metadata": {},
     "output_type": "execute_result"
    }
   ],
   "source": [
    "def nfoispoubelle(p,q,n):\n",
    "    LR = []\n",
    "    for i in range(n):\n",
    "        LR.append(nb_dans_poubelle(p,q))\n",
    "        \n",
    "    return LR\n",
    "        \n",
    "nfoispoubelle(p,q,10)        "
   ]
  },
  {
   "cell_type": "code",
   "execution_count": 6,
   "metadata": {},
   "outputs": [
    {
     "data": {
      "image/png": "[encoded data removed]",
      "text/plain": [
       "<Figure size 432x288 with 1 Axes>"
      ]
     },
     "metadata": {},
     "output_type": "display_data"
    }
   ],
   "source": [
    "n = 10\n",
    "\n",
    "M = [u for u,v in nfoispoubelle(p,q,n)]\n",
    "N = [v for u,v in nfoispoubelle(p,q,n)]\n",
    "\n",
    "\n",
    "def plot_poubelle(M,n):\n",
    "    plt.figure()\n",
    "    plt.plot(M, label = \"BonnePoubelle\")\n",
    "    plt.plot(N, label = \"MauvaisePoubelle\")\n",
    "    plt.legend()\n",
    "    plt.xlabel(\"n fois\")\n",
    "    plt.ylabel(\"Taille de la poubelle\")\n",
    "    plt.show()\n",
    "    return \n",
    "\n",
    "plot_poubelle(M,n)"
   ]
  },
  {
   "cell_type": "code",
   "execution_count": 7,
   "metadata": {},
   "outputs": [
    {
     "data": {
      "text/plain": [
       "0"
      ]
     },
     "execution_count": 7,
     "metadata": {},
     "output_type": "execute_result"
    }
   ],
   "source": [
    "def mis_a_jour(p,q):\n",
    "    cp1 = 0\n",
    "    while cp1 < 500 :\n",
    "        u,v = nb_dans_poubelle(p,q)\n",
    "        cp1 = cp1 + u\n",
    "        \n",
    "    q[\"BonnePoubelle\"] = 0.1\n",
    "    q[\"MauvaisePoubelle\"] = 1 - q[\"BonnePoubelle\"]\n",
    "    \"\"\"print(nb_dans_poubelle(p,q))\"\"\"\n",
    "    return 0\n",
    "    \n",
    "mis_a_jour(p,q)   "
   ]
  },
  {
   "cell_type": "code",
   "execution_count": null,
   "metadata": {},
   "outputs": [],
   "source": []
  },
  {
   "cell_type": "code",
   "execution_count": null,
   "metadata": {},
   "outputs": [],
   "source": []
  },
  {
   "cell_type": "code",
   "execution_count": null,
   "metadata": {},
   "outputs": [],
   "source": []
  },
  {
   "cell_type": "code",
   "execution_count": null,
   "metadata": {},
   "outputs": [],
   "source": []
  }
 ],
 "metadata": {
  "kernelspec": {
   "display_name": "Python 3",
   "language": "python",
   "name": "python3"
  },
  "language_info": {
   "codemirror_mode": {
    "name": "ipython",
    "version": 3
   },
   "file_extension": ".py",
   "mimetype": "text/x-python",
   "name": "python",
   "nbconvert_exporter": "python",
   "pygments_lexer": "ipython3",
   "version": "3.5.3"
  }
 },
 "nbformat": 4,
 "nbformat_minor": 2
}

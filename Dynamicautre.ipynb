{
 "cells": [
  {
   "cell_type": "code",
   "execution_count": 1,
   "metadata": {},
   "outputs": [],
   "source": [
    "%matplotlib inline     \n",
    "# ^Sans animations\n",
    "# %matplotlib notebook \n",
    "# ^Avec animations\n",
    "import numpy as np\n",
    "from random import randrange\n",
    "import matplotlib.pyplot as plt\n",
    "from matplotlib import animation\n",
    "import pandas as pd\n",
    "import matplotlib\n",
    "import matplotlib.animation as animation"
   ]
  },
  {
   "cell_type": "code",
   "execution_count": 2,
   "metadata": {},
   "outputs": [
    {
     "data": {
      "text/plain": [
       "'A'"
      ]
     },
     "execution_count": 2,
     "metadata": {},
     "output_type": "execute_result"
    }
   ],
   "source": [
    "p = {\"A\" : 0.5,\n",
    "    \"B\" : 0.5}\n",
    "\n",
    "def flux(p):\n",
    "    \"\"\" Hypothèse : 0.5+ : B\"\"\"\n",
    "    r = (randrange(0,100)*1.0)/100\n",
    "    for d in p:\n",
    "        if r < p[d]:\n",
    "            return \"A\"\n",
    "        else: \n",
    "            return \"B\"\n",
    "    \n",
    "flux(p)"
   ]
  },
  {
   "cell_type": "code",
   "execution_count": 41,
   "metadata": {},
   "outputs": [
    {
     "data": {
      "text/plain": [
       "'BonnePoubelle'"
      ]
     },
     "execution_count": 41,
     "metadata": {},
     "output_type": "execute_result"
    }
   ],
   "source": [
    "q = {\"BonnePoubelle\" : 0.9,\n",
    "    \"MauvaisePoubelle\" : 0.1}\n",
    "\n",
    "def poubelle_choisie(p,q):\n",
    "    f = flux(p)\n",
    "    n = (randrange(0,100)*1.0)/100\n",
    "    if f == \"A\":\n",
    "        if n >= q[\"MauvaisePoubelle\"]:\n",
    "            return \"BonnePoubelle\"\n",
    "        else: \n",
    "            return \"MauvaisePoubelle\"\n",
    "    else:\n",
    "        if n >= q[\"MauvaisePoubelle\"]:\n",
    "            return \"BonnePoubelle\"\n",
    "        else: \n",
    "            return \"MauvaisePoubelle\"\n",
    "            \n",
    "poubelle_choisie(p,q)"
   ]
  },
  {
   "cell_type": "code",
   "execution_count": 42,
   "metadata": {},
   "outputs": [
    {
     "data": {
      "text/plain": [
       "(93, 8)"
      ]
     },
     "execution_count": 42,
     "metadata": {},
     "output_type": "execute_result"
    }
   ],
   "source": [
    "def nb_dans_poubelle(p,q):\n",
    "    p1 = 0\n",
    "    p2 = 0\n",
    "    n = 100\n",
    "    for d in range(n+1):\n",
    "        if poubelle_choisie(p,q)== \"BonnePoubelle\" :\n",
    "            p1 = p1 + 1\n",
    "        else :\n",
    "            p2 = p2 + 1\n",
    "    return (p1, p2)\n",
    "\n",
    "nb_dans_poubelle(p,q)"
   ]
  },
  {
   "cell_type": "code",
   "execution_count": 52,
   "metadata": {},
   "outputs": [
    {
     "data": {
      "text/plain": [
       "[(93, 8),\n",
       " (91, 10),\n",
       " (91, 10),\n",
       " (90, 11),\n",
       " (91, 10),\n",
       " (91, 10),\n",
       " (93, 8),\n",
       " (93, 8),\n",
       " (94, 7),\n",
       " (94, 7)]"
      ]
     },
     "execution_count": 52,
     "metadata": {},
     "output_type": "execute_result"
    }
   ],
   "source": [
    "def nfoispoubelle(p,q,n):\n",
    "    LR = []\n",
    "    compteur1 = 0 \n",
    "    compteur2 = 0\n",
    "    for i in range(n):\n",
    "        LR.append(nb_dans_poubelle(p,q))\n",
    "        \n",
    "    for u,v in LR:\n",
    "        compteur1 += u\n",
    "        compteur2 += v\n",
    "        \n",
    "    #print(\"Il y a au bout de\", n ,\"tours\", compteur1 ,\"déchets dans la bonne poubelle et\", compteur2 ,\"déchets dans la mauvaise\")\n",
    "    return LR\n",
    "    \n",
    "nfoispoubelle(p,q,10)        "
   ]
  },
  {
   "cell_type": "code",
   "execution_count": 53,
   "metadata": {},
   "outputs": [
    {
     "data": {
      "image/png": "[encoded data removed]",
      "text/plain": [
       "<Figure size 432x288 with 1 Axes>"
      ]
     },
     "metadata": {
      "needs_background": "light"
     },
     "output_type": "display_data"
    }
   ],
   "source": [
    "n = 50\n",
    "\n",
    "M = [u for u,v in nfoispoubelle(p,q,n)]\n",
    "N = [v for u,v in nfoispoubelle(p,q,n)]\n",
    "\n",
    "\n",
    "def plot_poubelle(M,n):\n",
    "    plt.figure()\n",
    "    plt.plot(M, label = \"BonnePoubelle\")\n",
    "    plt.plot(N, label = \"MauvaisePoubelle\")\n",
    "    plt.legend()\n",
    "    plt.xlabel(\"n fois\")\n",
    "    plt.ylabel(\"Nombre de déchets dans la poubelle\")\n",
    "    plt.show()\n",
    "    return \n",
    "\n",
    "plot_poubelle(M,n)"
   ]
  }
 ],
 "metadata": {
  "kernelspec": {
   "display_name": "Python 3",
   "language": "python",
   "name": "python3"
  },
  "language_info": {
   "codemirror_mode": {
    "name": "ipython",
    "version": 3
   },
   "file_extension": ".py",
   "mimetype": "text/x-python",
   "name": "python",
   "nbconvert_exporter": "python",
   "pygments_lexer": "ipython3",
   "version": "3.7.1"
  }
 },
 "nbformat": 4,
 "nbformat_minor": 2
}
